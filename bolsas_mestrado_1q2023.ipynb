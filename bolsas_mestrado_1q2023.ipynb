{
  "nbformat": 4,
  "nbformat_minor": 0,
  "metadata": {
    "colab": {
      "provenance": []
    },
    "kernelspec": {
      "name": "python3",
      "display_name": "Python 3"
    },
    "language_info": {
      "name": "python"
    }
  },
  "cells": [
    {
      "cell_type": "code",
      "execution_count": 102,
      "metadata": {
        "id": "nTpAjKDOr9A6"
      },
      "outputs": [],
      "source": [
        "import pandas as pd"
      ]
    },
    {
      "cell_type": "code",
      "source": [
        "dados = pd.read_csv('bd_propg02_1q2023.csv', encoding='latin1', sep = ';')\n",
        "\n",
        "#Retirando registros inadequado\n",
        "linha_procurada = dados.loc[dados['Ano de referência'] == 4000]\n",
        "dados = dados.drop(62)\n",
        "\n",
        "linha_procurada2 = dados.loc[dados['Ano de referência'] == 2024]\n",
        "dados = dados.drop(27)"
      ],
      "metadata": {
        "id": "yK8d0XGisWwU"
      },
      "execution_count": 104,
      "outputs": []
    },
    {
      "cell_type": "code",
      "source": [
        "dados.info()"
      ],
      "metadata": {
        "colab": {
          "base_uri": "https://localhost:8080/"
        },
        "id": "Q-v7BdvEu5HZ",
        "outputId": "425c2515-cf8f-4f04-ce9a-5a4c31f22aaa"
      },
      "execution_count": 105,
      "outputs": [
        {
          "output_type": "stream",
          "name": "stdout",
          "text": [
            "<class 'pandas.core.frame.DataFrame'>\n",
            "Int64Index: 86 entries, 0 to 87\n",
            "Data columns (total 10 columns):\n",
            " #   Column                 Non-Null Count  Dtype \n",
            "---  ------                 --------------  ----- \n",
            " 0   Matrícula do Aluno     86 non-null     int64 \n",
            " 1   Bolsista               86 non-null     object\n",
            " 2   Valor da Bolsa         86 non-null     int64 \n",
            " 3   Ativo                  86 non-null     object\n",
            " 4   Unidade                86 non-null     object\n",
            " 5   Ano de referência      86 non-null     int64 \n",
            " 6   Período de Referência  86 non-null     object\n",
            " 7   Data de início         86 non-null     object\n",
            " 8   Data de Término        86 non-null     object\n",
            " 9   Curso do Aluno         86 non-null     object\n",
            "dtypes: int64(3), object(7)\n",
            "memory usage: 7.4+ KB\n"
          ]
        }
      ]
    },
    {
      "cell_type": "code",
      "source": [
        "dados.head()"
      ],
      "metadata": {
        "colab": {
          "base_uri": "https://localhost:8080/",
          "height": 441
        },
        "id": "KJs9HC4Ute_D",
        "outputId": "f1a73df7-a454-4409-ca56-f4a0d07d4627"
      },
      "execution_count": 80,
      "outputs": [
        {
          "output_type": "execute_result",
          "data": {
            "text/plain": [
              "   Matrícula do Aluno                       Bolsista  Valor da Bolsa Ativo  \\\n",
              "0         21202110064       Beatriz de Paula Azevedo            1425     A   \n",
              "1         21202210178       Veridiana Beatriz Zurita            1425     A   \n",
              "2         21202110066  Dennis Pacheco Lopes da Silva            1425     A   \n",
              "3         21202210232        Tatiana Prete Cavallari            1425     A   \n",
              "4         21202210228    Felipe Diego Toro Hernández            1425     A   \n",
              "\n",
              "                                         Unidade  Ano de referência  \\\n",
              "0  03.05.00.00.0.0-PRÓ-REITORIA DE PÓS-GRADUAÇÃO               2021   \n",
              "1  03.05.00.00.0.0-PRÓ-REITORIA DE PÓS-GRADUAÇÃO               2022   \n",
              "2  03.05.00.00.0.0-PRÓ-REITORIA DE PÓS-GRADUAÇÃO               2021   \n",
              "3  03.05.00.00.0.0-PRÓ-REITORIA DE PÓS-GRADUAÇÃO               2022   \n",
              "4  03.05.00.00.0.0-PRÓ-REITORIA DE PÓS-GRADUAÇÃO               2022   \n",
              "\n",
              "  Período de Referência Data de início Data de Término  \\\n",
              "0                 Anual     01/08/2021      28/02/2023   \n",
              "1                 Anual     01/12/2022      28/02/2024   \n",
              "2                 Anual     01/04/2021      31/08/2023   \n",
              "3                 Anual     01/04/2022      28/02/2024   \n",
              "4                 Anual     01/03/2022      28/02/2024   \n",
              "\n",
              "                                   Curso do Aluno  \n",
              "0  PGM-CHS-MESTRADO EM CIÊNCIAS HUMANAS E SOCIAIS  \n",
              "1  PGM-CHS-MESTRADO EM CIÊNCIAS HUMANAS E SOCIAIS  \n",
              "2  PGM-CHS-MESTRADO EM CIÊNCIAS HUMANAS E SOCIAIS  \n",
              "3     PGM-NCG-MESTRADO EM NEUROCIÊNCIA E COGNIÇÃO  \n",
              "4     PGM-NCG-MESTRADO EM NEUROCIÊNCIA E COGNIÇÃO  "
            ],
            "text/html": [
              "\n",
              "\n",
              "  <div id=\"df-9f29c478-19e0-410a-b762-0fc13e8b74cf\">\n",
              "    <div class=\"colab-df-container\">\n",
              "      <div>\n",
              "<style scoped>\n",
              "    .dataframe tbody tr th:only-of-type {\n",
              "        vertical-align: middle;\n",
              "    }\n",
              "\n",
              "    .dataframe tbody tr th {\n",
              "        vertical-align: top;\n",
              "    }\n",
              "\n",
              "    .dataframe thead th {\n",
              "        text-align: right;\n",
              "    }\n",
              "</style>\n",
              "<table border=\"1\" class=\"dataframe\">\n",
              "  <thead>\n",
              "    <tr style=\"text-align: right;\">\n",
              "      <th></th>\n",
              "      <th>Matrícula do Aluno</th>\n",
              "      <th>Bolsista</th>\n",
              "      <th>Valor da Bolsa</th>\n",
              "      <th>Ativo</th>\n",
              "      <th>Unidade</th>\n",
              "      <th>Ano de referência</th>\n",
              "      <th>Período de Referência</th>\n",
              "      <th>Data de início</th>\n",
              "      <th>Data de Término</th>\n",
              "      <th>Curso do Aluno</th>\n",
              "    </tr>\n",
              "  </thead>\n",
              "  <tbody>\n",
              "    <tr>\n",
              "      <th>0</th>\n",
              "      <td>21202110064</td>\n",
              "      <td>Beatriz de Paula Azevedo</td>\n",
              "      <td>1425</td>\n",
              "      <td>A</td>\n",
              "      <td>03.05.00.00.0.0-PRÓ-REITORIA DE PÓS-GRADUAÇÃO</td>\n",
              "      <td>2021</td>\n",
              "      <td>Anual</td>\n",
              "      <td>01/08/2021</td>\n",
              "      <td>28/02/2023</td>\n",
              "      <td>PGM-CHS-MESTRADO EM CIÊNCIAS HUMANAS E SOCIAIS</td>\n",
              "    </tr>\n",
              "    <tr>\n",
              "      <th>1</th>\n",
              "      <td>21202210178</td>\n",
              "      <td>Veridiana Beatriz Zurita</td>\n",
              "      <td>1425</td>\n",
              "      <td>A</td>\n",
              "      <td>03.05.00.00.0.0-PRÓ-REITORIA DE PÓS-GRADUAÇÃO</td>\n",
              "      <td>2022</td>\n",
              "      <td>Anual</td>\n",
              "      <td>01/12/2022</td>\n",
              "      <td>28/02/2024</td>\n",
              "      <td>PGM-CHS-MESTRADO EM CIÊNCIAS HUMANAS E SOCIAIS</td>\n",
              "    </tr>\n",
              "    <tr>\n",
              "      <th>2</th>\n",
              "      <td>21202110066</td>\n",
              "      <td>Dennis Pacheco Lopes da Silva</td>\n",
              "      <td>1425</td>\n",
              "      <td>A</td>\n",
              "      <td>03.05.00.00.0.0-PRÓ-REITORIA DE PÓS-GRADUAÇÃO</td>\n",
              "      <td>2021</td>\n",
              "      <td>Anual</td>\n",
              "      <td>01/04/2021</td>\n",
              "      <td>31/08/2023</td>\n",
              "      <td>PGM-CHS-MESTRADO EM CIÊNCIAS HUMANAS E SOCIAIS</td>\n",
              "    </tr>\n",
              "    <tr>\n",
              "      <th>3</th>\n",
              "      <td>21202210232</td>\n",
              "      <td>Tatiana Prete Cavallari</td>\n",
              "      <td>1425</td>\n",
              "      <td>A</td>\n",
              "      <td>03.05.00.00.0.0-PRÓ-REITORIA DE PÓS-GRADUAÇÃO</td>\n",
              "      <td>2022</td>\n",
              "      <td>Anual</td>\n",
              "      <td>01/04/2022</td>\n",
              "      <td>28/02/2024</td>\n",
              "      <td>PGM-NCG-MESTRADO EM NEUROCIÊNCIA E COGNIÇÃO</td>\n",
              "    </tr>\n",
              "    <tr>\n",
              "      <th>4</th>\n",
              "      <td>21202210228</td>\n",
              "      <td>Felipe Diego Toro Hernández</td>\n",
              "      <td>1425</td>\n",
              "      <td>A</td>\n",
              "      <td>03.05.00.00.0.0-PRÓ-REITORIA DE PÓS-GRADUAÇÃO</td>\n",
              "      <td>2022</td>\n",
              "      <td>Anual</td>\n",
              "      <td>01/03/2022</td>\n",
              "      <td>28/02/2024</td>\n",
              "      <td>PGM-NCG-MESTRADO EM NEUROCIÊNCIA E COGNIÇÃO</td>\n",
              "    </tr>\n",
              "  </tbody>\n",
              "</table>\n",
              "</div>\n",
              "      <button class=\"colab-df-convert\" onclick=\"convertToInteractive('df-9f29c478-19e0-410a-b762-0fc13e8b74cf')\"\n",
              "              title=\"Convert this dataframe to an interactive table.\"\n",
              "              style=\"display:none;\">\n",
              "\n",
              "  <svg xmlns=\"http://www.w3.org/2000/svg\" height=\"24px\"viewBox=\"0 0 24 24\"\n",
              "       width=\"24px\">\n",
              "    <path d=\"M0 0h24v24H0V0z\" fill=\"none\"/>\n",
              "    <path d=\"M18.56 5.44l.94 2.06.94-2.06 2.06-.94-2.06-.94-.94-2.06-.94 2.06-2.06.94zm-11 1L8.5 8.5l.94-2.06 2.06-.94-2.06-.94L8.5 2.5l-.94 2.06-2.06.94zm10 10l.94 2.06.94-2.06 2.06-.94-2.06-.94-.94-2.06-.94 2.06-2.06.94z\"/><path d=\"M17.41 7.96l-1.37-1.37c-.4-.4-.92-.59-1.43-.59-.52 0-1.04.2-1.43.59L10.3 9.45l-7.72 7.72c-.78.78-.78 2.05 0 2.83L4 21.41c.39.39.9.59 1.41.59.51 0 1.02-.2 1.41-.59l7.78-7.78 2.81-2.81c.8-.78.8-2.07 0-2.86zM5.41 20L4 18.59l7.72-7.72 1.47 1.35L5.41 20z\"/>\n",
              "  </svg>\n",
              "      </button>\n",
              "\n",
              "\n",
              "\n",
              "    <div id=\"df-290ee0d1-15b3-436e-a978-6c222581d4d6\">\n",
              "      <button class=\"colab-df-quickchart\" onclick=\"quickchart('df-290ee0d1-15b3-436e-a978-6c222581d4d6')\"\n",
              "              title=\"Suggest charts.\"\n",
              "              style=\"display:none;\">\n",
              "\n",
              "<svg xmlns=\"http://www.w3.org/2000/svg\" height=\"24px\"viewBox=\"0 0 24 24\"\n",
              "     width=\"24px\">\n",
              "    <g>\n",
              "        <path d=\"M19 3H5c-1.1 0-2 .9-2 2v14c0 1.1.9 2 2 2h14c1.1 0 2-.9 2-2V5c0-1.1-.9-2-2-2zM9 17H7v-7h2v7zm4 0h-2V7h2v10zm4 0h-2v-4h2v4z\"/>\n",
              "    </g>\n",
              "</svg>\n",
              "      </button>\n",
              "    </div>\n",
              "\n",
              "<style>\n",
              "  .colab-df-quickchart {\n",
              "    background-color: #E8F0FE;\n",
              "    border: none;\n",
              "    border-radius: 50%;\n",
              "    cursor: pointer;\n",
              "    display: none;\n",
              "    fill: #1967D2;\n",
              "    height: 32px;\n",
              "    padding: 0 0 0 0;\n",
              "    width: 32px;\n",
              "  }\n",
              "\n",
              "  .colab-df-quickchart:hover {\n",
              "    background-color: #E2EBFA;\n",
              "    box-shadow: 0px 1px 2px rgba(60, 64, 67, 0.3), 0px 1px 3px 1px rgba(60, 64, 67, 0.15);\n",
              "    fill: #174EA6;\n",
              "  }\n",
              "\n",
              "  [theme=dark] .colab-df-quickchart {\n",
              "    background-color: #3B4455;\n",
              "    fill: #D2E3FC;\n",
              "  }\n",
              "\n",
              "  [theme=dark] .colab-df-quickchart:hover {\n",
              "    background-color: #434B5C;\n",
              "    box-shadow: 0px 1px 3px 1px rgba(0, 0, 0, 0.15);\n",
              "    filter: drop-shadow(0px 1px 2px rgba(0, 0, 0, 0.3));\n",
              "    fill: #FFFFFF;\n",
              "  }\n",
              "</style>\n",
              "\n",
              "    <script>\n",
              "      async function quickchart(key) {\n",
              "        const containerElement = document.querySelector('#' + key);\n",
              "        const charts = await google.colab.kernel.invokeFunction(\n",
              "            'suggestCharts', [key], {});\n",
              "      }\n",
              "    </script>\n",
              "\n",
              "\n",
              "      <script>\n",
              "\n",
              "function displayQuickchartButton(domScope) {\n",
              "  let quickchartButtonEl =\n",
              "    domScope.querySelector('#df-290ee0d1-15b3-436e-a978-6c222581d4d6 button.colab-df-quickchart');\n",
              "  quickchartButtonEl.style.display =\n",
              "    google.colab.kernel.accessAllowed ? 'block' : 'none';\n",
              "}\n",
              "\n",
              "        displayQuickchartButton(document);\n",
              "      </script>\n",
              "      <style>\n",
              "    .colab-df-container {\n",
              "      display:flex;\n",
              "      flex-wrap:wrap;\n",
              "      gap: 12px;\n",
              "    }\n",
              "\n",
              "    .colab-df-convert {\n",
              "      background-color: #E8F0FE;\n",
              "      border: none;\n",
              "      border-radius: 50%;\n",
              "      cursor: pointer;\n",
              "      display: none;\n",
              "      fill: #1967D2;\n",
              "      height: 32px;\n",
              "      padding: 0 0 0 0;\n",
              "      width: 32px;\n",
              "    }\n",
              "\n",
              "    .colab-df-convert:hover {\n",
              "      background-color: #E2EBFA;\n",
              "      box-shadow: 0px 1px 2px rgba(60, 64, 67, 0.3), 0px 1px 3px 1px rgba(60, 64, 67, 0.15);\n",
              "      fill: #174EA6;\n",
              "    }\n",
              "\n",
              "    [theme=dark] .colab-df-convert {\n",
              "      background-color: #3B4455;\n",
              "      fill: #D2E3FC;\n",
              "    }\n",
              "\n",
              "    [theme=dark] .colab-df-convert:hover {\n",
              "      background-color: #434B5C;\n",
              "      box-shadow: 0px 1px 3px 1px rgba(0, 0, 0, 0.15);\n",
              "      filter: drop-shadow(0px 1px 2px rgba(0, 0, 0, 0.3));\n",
              "      fill: #FFFFFF;\n",
              "    }\n",
              "  </style>\n",
              "\n",
              "      <script>\n",
              "        const buttonEl =\n",
              "          document.querySelector('#df-9f29c478-19e0-410a-b762-0fc13e8b74cf button.colab-df-convert');\n",
              "        buttonEl.style.display =\n",
              "          google.colab.kernel.accessAllowed ? 'block' : 'none';\n",
              "\n",
              "        async function convertToInteractive(key) {\n",
              "          const element = document.querySelector('#df-9f29c478-19e0-410a-b762-0fc13e8b74cf');\n",
              "          const dataTable =\n",
              "            await google.colab.kernel.invokeFunction('convertToInteractive',\n",
              "                                                     [key], {});\n",
              "          if (!dataTable) return;\n",
              "\n",
              "          const docLinkHtml = 'Like what you see? Visit the ' +\n",
              "            '<a target=\"_blank\" href=https://colab.research.google.com/notebooks/data_table.ipynb>data table notebook</a>'\n",
              "            + ' to learn more about interactive tables.';\n",
              "          element.innerHTML = '';\n",
              "          dataTable['output_type'] = 'display_data';\n",
              "          await google.colab.output.renderOutput(dataTable, element);\n",
              "          const docLink = document.createElement('div');\n",
              "          docLink.innerHTML = docLinkHtml;\n",
              "          element.appendChild(docLink);\n",
              "        }\n",
              "      </script>\n",
              "    </div>\n",
              "  </div>\n"
            ]
          },
          "metadata": {},
          "execution_count": 80
        }
      ]
    },
    {
      "cell_type": "code",
      "source": [
        "#Valor de bolsa\n",
        "media_valor_bolsa = dados['Valor da Bolsa'].mean()\n",
        "mediana_valor_bolsa = dados['Valor da Bolsa'].median()\n",
        "desvio_padrao_valor_bolsa = dados['Valor da Bolsa'].std()\n",
        "minimo_valor_bolsa = dados['Valor da Bolsa'].min()\n",
        "maximo_valor_bolsa = dados['Valor da Bolsa'].max()"
      ],
      "metadata": {
        "id": "jaLbbWx6ujg1"
      },
      "execution_count": 81,
      "outputs": []
    },
    {
      "cell_type": "code",
      "source": [
        "#Quantidades de bolsas de acordo com o ano de referência\n",
        "num_valores_unicos_ano = dados['Ano de referência'].value_counts()\n",
        "num_valores_unicos_ano"
      ],
      "metadata": {
        "colab": {
          "base_uri": "https://localhost:8080/"
        },
        "id": "DiKh3s8hv-lH",
        "outputId": "7ee1868e-9e5e-4621-fa8a-e8db6955bc8c"
      },
      "execution_count": 82,
      "outputs": [
        {
          "output_type": "execute_result",
          "data": {
            "text/plain": [
              "2022    40\n",
              "2021    30\n",
              "2023    14\n",
              "2020     2\n",
              "Name: Ano de referência, dtype: int64"
            ]
          },
          "metadata": {},
          "execution_count": 82
        }
      ]
    },
    {
      "cell_type": "code",
      "source": [
        "#Número de entradas de acordo com período de referência\n",
        "num_valores_unicos_periodo_ref = dados['Período de Referência'].value_counts()\n",
        "num_valores_unicos_periodo_ref"
      ],
      "metadata": {
        "colab": {
          "base_uri": "https://localhost:8080/"
        },
        "id": "n0h08eH8ynVK",
        "outputId": "d0f1da08-58c7-46bb-d6be-e6b483ac6aea"
      },
      "execution_count": 84,
      "outputs": [
        {
          "output_type": "execute_result",
          "data": {
            "text/plain": [
              "Anual          83\n",
              "1º Semestre     2\n",
              "2º Semestre     1\n",
              "Name: Período de Referência, dtype: int64"
            ]
          },
          "metadata": {},
          "execution_count": 84
        }
      ]
    },
    {
      "cell_type": "code",
      "source": [
        "#Cálculo de tempo de duração\n",
        "dados['Data de Término'] = pd.to_datetime(dados['Data de Término'])\n",
        "dados['Data de início'] = pd.to_datetime(dados['Data de início'])\n",
        "\n",
        "dados['Dias'] = dados['Data de Término'] - dados['Data de início']\n",
        "dados['Dias'] = dados['Dias'].dt.days\n",
        "\n",
        "print(dados['Dias'])"
      ],
      "metadata": {
        "colab": {
          "base_uri": "https://localhost:8080/"
        },
        "id": "zuhlfj1Ay904",
        "outputId": "5e665574-3e3e-48d1-e28c-b96b626cc532"
      },
      "execution_count": 97,
      "outputs": [
        {
          "output_type": "stream",
          "name": "stdout",
          "text": [
            "0      781\n",
            "1      777\n",
            "2      969\n",
            "3      785\n",
            "4      786\n",
            "      ... \n",
            "83     454\n",
            "84    1174\n",
            "85    1174\n",
            "86     865\n",
            "87     872\n",
            "Name: Dias, Length: 86, dtype: int64\n"
          ]
        }
      ]
    },
    {
      "cell_type": "code",
      "source": [
        "dados['Dias'].describe().round(1)"
      ],
      "metadata": {
        "colab": {
          "base_uri": "https://localhost:8080/"
        },
        "id": "2JU_-wF61Ukr",
        "outputId": "072905e4-ee4d-4a90-ab39-d09bc2b74138"
      },
      "execution_count": 101,
      "outputs": [
        {
          "output_type": "execute_result",
          "data": {
            "text/plain": [
              "count      86.0\n",
              "mean      821.0\n",
              "std       156.1\n",
              "min       417.0\n",
              "25%       760.0\n",
              "50%       813.5\n",
              "75%       955.8\n",
              "max      1174.0\n",
              "Name: Dias, dtype: float64"
            ]
          },
          "metadata": {},
          "execution_count": 101
        }
      ]
    },
    {
      "cell_type": "code",
      "source": [
        "dados['Meses'] = dados['Dias']/30\n",
        "dados['Meses'].round(1)"
      ],
      "metadata": {
        "colab": {
          "base_uri": "https://localhost:8080/"
        },
        "id": "tm9lXc7S8oUo",
        "outputId": "a17d0a64-66cf-4c15-8ebe-af7b5fb048f3"
      },
      "execution_count": 100,
      "outputs": [
        {
          "output_type": "execute_result",
          "data": {
            "text/plain": [
              "0     26.0\n",
              "1     25.9\n",
              "2     32.3\n",
              "3     26.2\n",
              "4     26.2\n",
              "      ... \n",
              "83    15.1\n",
              "84    39.1\n",
              "85    39.1\n",
              "86    28.8\n",
              "87    29.1\n",
              "Name: Meses, Length: 86, dtype: float64"
            ]
          },
          "metadata": {},
          "execution_count": 100
        }
      ]
    },
    {
      "cell_type": "code",
      "source": [
        "#Quantidades de alunos com bolsa/curso\n",
        "num_valores_unicos_curso = dados['Curso do Aluno'].value_counts()\n",
        "num_valores_unicos_curso"
      ],
      "metadata": {
        "colab": {
          "base_uri": "https://localhost:8080/"
        },
        "id": "bPwmzIXY2MtF",
        "outputId": "20d507dd-b803-4a94-e210-8c827ffc4dd1"
      },
      "execution_count": 87,
      "outputs": [
        {
          "output_type": "execute_result",
          "data": {
            "text/plain": [
              "PGM-BIS-MESTRADO EM BIOSSISTEMAS                                      6\n",
              "PGM-CTQ-MESTRADO EM CIÊNCIAS E TECNOLOGIA/QUÍMICA                     6\n",
              "PGM-NCG-MESTRADO EM NEUROCIÊNCIA E COGNIÇÃO                           6\n",
              "PGM-CTA-MESTRADO EM CIÊNCIA E TECNOLOGIA AMBIENTAL                    5\n",
              "PGM-FIS-MESTRADO EM FÍSICA                                            5\n",
              "PGM-ENS-MESTRADO EM ENSINO E HISTÓRIA DAS CIÊNCIAS E DA MATEMÁTICA    5\n",
              "PGM-FIL-MESTRADO EM FILOSOFIA                                         5\n",
              "PGM-CEM-MESTRADO EM CIÊNCIA E ENGENHARIA DE MATERIAIS                 5\n",
              "PGM-PPU-MESTRADO EM POLÍTICAS PÚBLICAS                                5\n",
              "PGM-ECO-MESTRADO EM ECONOMIA                                          4\n",
              "PGM-EPM-MESTRADO EM ECONOMIA POLÍTICA MUNDIAL                         4\n",
              "PGM-MEC-MESTRADO EM ENGENHARIA MECÂNICA                               4\n",
              "PGM-BTC-MESTRADO EM BIOTECNOCIÊNCIA                                   4\n",
              "PGM-CHS-MESTRADO EM CIÊNCIAS HUMANAS E SOCIAIS                        3\n",
              "PGM-EVD-MESTRADO EM EVOLUÇÃO E DIVERSIDADE                            3\n",
              "PGM-PGT-MESTRADO EM PLANEJAMENTO E GESTÃO DO TERRITÓRIO               3\n",
              "PGM-NMA-MESTRADO EM NANOCIÊNCIAS E MATERIAIS AVANÇADOS                3\n",
              "PGM-EEL-MESTRADO EM ENGENHARIA ELÉTRICA                               3\n",
              "PGM-PRI-MESTRADO EM RELAÇÕES INTERNACIONAIS                           2\n",
              "PGM-INV-MESTRADO EM ENGENHARIA E GESTÃO DA INOVAÇÃO                   2\n",
              "PGM-MAT-MESTRADO EM MATEMATICA                                        1\n",
              "PGM-ENE-MESTRADO EM ENERGIA                                           1\n",
              "PGM-EBM-MESTRADO EM ENGENHARIA BIOMÉDICA                              1\n",
              "Name: Curso do Aluno, dtype: int64"
            ]
          },
          "metadata": {},
          "execution_count": 87
        }
      ]
    },
    {
      "cell_type": "code",
      "source": [
        "#Classificação se o curso é de humanas ou não\n",
        "def classificar_humanas(curso):\n",
        "    humanas_keywords = ['filosofia', 'políticas públicas', 'economia', 'ciências humanas', 'relações internacionais']\n",
        "    if any(keyword in curso.lower() for keyword in humanas_keywords):\n",
        "        return 'Humanas'\n",
        "    else:\n",
        "        return 'Não Humanas'\n",
        "\n",
        "dados['Classificação'] = dados['Curso do Aluno'].apply(classificar_humanas)\n",
        "\n",
        "dados['Classificação'].value_counts()"
      ],
      "metadata": {
        "colab": {
          "base_uri": "https://localhost:8080/"
        },
        "id": "nv_eG-Xv3mdU",
        "outputId": "4fb6145e-97a8-4fba-8a58-9de77cab7fda"
      },
      "execution_count": 88,
      "outputs": [
        {
          "output_type": "execute_result",
          "data": {
            "text/plain": [
              "Não Humanas    63\n",
              "Humanas        23\n",
              "Name: Classificação, dtype: int64"
            ]
          },
          "metadata": {},
          "execution_count": 88
        }
      ]
    }
  ]
}